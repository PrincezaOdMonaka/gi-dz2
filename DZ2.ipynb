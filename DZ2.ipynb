{
 "cells": [
  {
   "cell_type": "code",
   "execution_count": 1,
   "metadata": {},
   "outputs": [],
   "source": [
    "#!pip install pysam\n",
    "import pysam"
   ]
  },
  {
   "cell_type": "code",
   "execution_count": 19,
   "metadata": {},
   "outputs": [
    {
     "name": "stdout",
     "output_type": "stream",
     "text": [
      "C0HVYACXX120402:7:1207:5722:57044\t1187\t#20\t9483249\t27\t76M\t#20\t9483382\t209\tTTTTCAAACAGTATCTATGCCTGCCAAATGTGAACATATAAAAAAAAACCAGAATGTGCCATTCTGATTTAAACTG\tarray('B', [28, 28, 27, 29, 31, 30, 31, 31, 29, 31, 35, 30, 29, 31, 34, 30, 29, 23, 41, 32, 20, 30, 29, 34, 34, 29, 30, 31, 30, 30, 30, 33, 33, 26, 39, 12, 25, 19, 32, 30, 35, 28, 35, 33, 23, 33, 35, 36, 30, 38, 33, 41, 34, 35, 31, 33, 23, 30, 30, 36, 27, 32, 29, 34, 35, 41, 33, 31, 33, 29, 32, 32, 31, 31, 31, 34])\t[('XA', 'GL000217.1,-110754,76M,1;'), ('BD', 'NNNNNNNNNNNNNNNNNNNNNNNNNNNNNNNNNNNNNNNNNNNNNNNNNNNNNNNNNNNNNNNNNNNNNNNNNNNN'), ('MD', '76'), ('RG', '1'), ('BI', 'NNNNNNNNNNNNNNNNNNNNNNNNNNNNNNNNNNNNNNNNNNNNNNNNNNNNNNNNNNNNNNNNNNNNNNNNNNNN'), ('NM', 0), ('MQ', 27), ('AS', 76), ('XS', 71)]\n"
     ]
    }
   ],
   "source": [
    "samfile = pysam.AlignmentFile(\"merged-tumor.bam\")\n",
    "first_read = next(samfile)\n",
    "print(first_read)"
   ]
  },
  {
   "cell_type": "code",
   "execution_count": 16,
   "metadata": {
    "scrolled": true
   },
   "outputs": [
    {
     "name": "stdout",
     "output_type": "stream",
     "text": [
      "First read name:  C0HVYACXX120402:7:1207:5722:57044\n",
      "Flag:  1187\n",
      "Reference(contig) id: 20\n",
      "POS (leftmost coordinate, 0-based):  9483248\n",
      "Mapping quality:  27\n",
      "CIGAR string:  76M\n",
      "RNEXT (reference name of the next/mate read):  20\n",
      "PNEXT (position of the mate/next read):  9483381\n",
      "Sequence:  TTTTCAAACAGTATCTATGCCTGCCAAATGTGAACATATAAAAAAAAACCAGAATGTGCCATTCTGATTTAAACTG\n",
      "Quality seq:  ==<>@?@@>@D?>@C?>8JA5?>CC>?@???BB;H-:4A?D=DB8BDE?GBJCD@B8??E<A>CDJB@B>AA@@@C\n"
     ]
    }
   ],
   "source": [
    "print('First read name: ', first_read.query_name)\n",
    "print('Flag: ', first_read.flag)\n",
    "print('Reference(contig) id:', first_read.reference_id)\n",
    "print('POS (leftmost coordinate, 0-based): ', first_read.reference_start)\n",
    "print('Mapping quality: ', first_read.mapping_quality)\n",
    "print('CIGAR string: ', first_read.cigarstring)\n",
    "print('RNEXT (reference name of the next/mate read): ', first_read.next_reference_id)\n",
    "print('PNEXT (position of the mate/next read): ', first_read.next_reference_start)\n",
    "print('Sequence: ', first_read.query_sequence)\n",
    "print('Quality seq: ', first_read.qual)"
   ]
  },
  {
   "cell_type": "markdown",
   "metadata": {},
   "source": [
    "First read: flag = 1187 = 10010100011b\n",
    "\n",
    "1-This is a paired read.\n",
    "\n",
    "1-This read is part of a pair that aligned properly. Proper alignment indicates both reads in a pair are oriented towards one another (one forward, one reverse), are both on the same contig, and are within the expected distance from one another.\n",
    "\n",
    "0-This read was aligned\n",
    "\n",
    "0-This read is part of a pair and its mate is aligned\n",
    "\n",
    "0-This read is not aligned in the reverse direction\n",
    "\n",
    "1-This read is part of a pair and its mate aligned in the reverse direction\n",
    "\n",
    "0-This read is not the first in the pair (read1)\n",
    "\n",
    "1-This read is the second in pair (read2)\n",
    "\n",
    "0-The given alignment is a not secondary alignment; The read didn't have multiple potential alignments\n",
    "\n",
    "0-Read didn't fail quality check\n",
    "\n",
    "1-Read is a duplicate (PCR or optical duplicate)"
   ]
  },
  {
   "cell_type": "code",
   "execution_count": 20,
   "metadata": {},
   "outputs": [
    {
     "name": "stdout",
     "output_type": "stream",
     "text": [
      "163\n",
      "99\n",
      "99\n",
      "99\n",
      "163\n",
      "99\n",
      "1123\n",
      "99\n",
      "1123\n",
      "99\n",
      "163\n",
      "1187\n",
      "163\n",
      "147\n",
      "163\n",
      "163\n",
      "163\n",
      "163\n",
      "163\n",
      "99\n"
     ]
    }
   ],
   "source": [
    "for i in range(20):\n",
    "    read = next(samfile.fetch(until_eof = True))\n",
    "    print(read.flag)"
   ]
  },
  {
   "cell_type": "markdown",
   "metadata": {},
   "source": [
    "163 = 10100011b\n",
    "Same as the first read, only this is not a duplicate"
   ]
  },
  {
   "cell_type": "markdown",
   "metadata": {},
   "source": [
    "99 = 1100011b\n",
    "This is a paired read, that is also a part of pair that aligned properly.\n",
    "Its mate aligned in the reverse direction.\n",
    "This is a first mate (read1).\n"
   ]
  },
  {
   "cell_type": "markdown",
   "metadata": {},
   "source": [
    "1123 = 10001100011b\n",
    "This is a paired read, that is also a part of pair that aligned properly.\n",
    "Its mate aligned in the reverse direction.\n",
    "This is a first mate (read1).\n",
    "This is a duplicate read.\n"
   ]
  },
  {
   "cell_type": "markdown",
   "metadata": {},
   "source": [
    "147 = 10010011b\n",
    "This is a paired read, that is also a part of pair that aligned properly.\n",
    "Read is aligned in reverse direction.\n",
    "Read is a second in pair (read2)."
   ]
  },
  {
   "cell_type": "code",
   "execution_count": 25,
   "metadata": {},
   "outputs": [],
   "source": [
    "samfile.close()"
   ]
  },
  {
   "cell_type": "code",
   "execution_count": 34,
   "metadata": {
    "scrolled": true
   },
   "outputs": [
    {
     "name": "stdout",
     "output_type": "stream",
     "text": [
      "Number of unmapped reads:  17765\n",
      "Number of reads with mapping quality 0:  126628\n",
      "Total number of reads:  2921629\n",
      "Average mapping quality for all reads:  55.91379158681681\n",
      "Average mapping quality for nonzero mapping quality reads:  58.446975510921106\n"
     ]
    }
   ],
   "source": [
    "unmapped_cnt = 0\n",
    "zero_mapq_cnt = 0\n",
    "mapq_sum = 0\n",
    "nonzero_mapq_sum = 0\n",
    "cnt = 0\n",
    "\n",
    "for read in pysam.AlignmentFile(\"merged-tumor.bam\"):\n",
    "    cnt += 1\n",
    "    if read.mapping_quality != 255:\n",
    "        mapq_sum += read.mapping_quality\n",
    "        \n",
    "    if read.is_unmapped:\n",
    "        unmapped_cnt += 1\n",
    "    if read.mapping_quality == 0:\n",
    "        zero_mapq_cnt += 1\n",
    "    else:\n",
    "        if read.mapping_quality != 255:\n",
    "            nonzero_mapq_sum += read.mapping_quality\n",
    "    \n",
    "print('Number of unmapped reads: ', unmapped_cnt)\n",
    "print('Number of reads with mapping quality 0: ', zero_mapq_cnt)\n",
    "print('Total number of reads: ', cnt)\n",
    "print('Average mapping quality for all reads: ', float(mapq_sum) / cnt)\n",
    "print('Average mapping quality for nonzero mapping quality reads: ', float (nonzero_mapq_sum) / (cnt - zero_mapq_cnt))\n"
   ]
  },
  {
   "cell_type": "code",
   "execution_count": 36,
   "metadata": {},
   "outputs": [
    {
     "name": "stdout",
     "output_type": "stream",
     "text": [
      "Number of unmapped reads:  17765\n",
      "Number of reads with mapping quality 0:  126628\n",
      "Total number of reads:  2921629\n",
      "Average mapping quality for all reads:  55.91379158681681\n",
      "Average mapping quality for nonzero mapping quality reads:  58.446975510921106\n"
     ]
    }
   ],
   "source": [
    "\n",
    "# This could be done by making a list of AlignedSegments with almost three million elements, and using Pythons\n",
    "# built-in functions, but this would mean to have whole list loaded which could use a lot of memory\n",
    "unmapped_cnt = 0\n",
    "zero_mapq_cnt = 0\n",
    "mapq_sum = 0\n",
    "nonzero_mapq_sum = 0\n",
    "cnt = 0\n",
    "\n",
    "l = []\n",
    "for read in pysam.AlignmentFile(\"merged-tumor.bam\"):\n",
    "    l.append(read)\n",
    "\n",
    "cnt = len(l)\n",
    "unmapped_cnt = sum(map(lambda x : x.is_unmapped, l))\n",
    "zero_mapq_cnt = sum(map(lambda x : x.mapping_quality == 0, l))\n",
    "mapq_sum = sum(r.mapping_quality for r in l)\n",
    "nonzero_mapq_sum = sum(r.mapping_quality for r in l if r.mapping_quality > 0)\n",
    "\n",
    "print('Number of unmapped reads: ', unmapped_cnt)\n",
    "print('Number of reads with mapping quality 0: ', zero_mapq_cnt)\n",
    "print('Total number of reads: ', cnt)\n",
    "print('Average mapping quality for all reads: ', float(mapq_sum) / cnt)\n",
    "print('Average mapping quality for nonzero mapping quality reads: ', float (nonzero_mapq_sum) / (cnt - zero_mapq_cnt))\n"
   ]
  },
  {
   "cell_type": "code",
   "execution_count": null,
   "metadata": {},
   "outputs": [],
   "source": []
  }
 ],
 "metadata": {
  "kernelspec": {
   "display_name": "Python 3",
   "language": "python",
   "name": "python3"
  },
  "language_info": {
   "codemirror_mode": {
    "name": "ipython",
    "version": 3
   },
   "file_extension": ".py",
   "mimetype": "text/x-python",
   "name": "python",
   "nbconvert_exporter": "python",
   "pygments_lexer": "ipython3",
   "version": "3.7.3"
  }
 },
 "nbformat": 4,
 "nbformat_minor": 2
}
